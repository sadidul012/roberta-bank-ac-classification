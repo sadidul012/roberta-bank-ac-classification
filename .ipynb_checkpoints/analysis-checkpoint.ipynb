{
 "cells": [
  {
   "cell_type": "code",
   "execution_count": 1,
   "metadata": {},
   "outputs": [],
   "source": [
    "import pandas as pd\n",
    "from settings import *\n",
    "from pathlib import Path"
   ]
  },
  {
   "cell_type": "code",
   "execution_count": 2,
   "metadata": {},
   "outputs": [],
   "source": [
    "train_data = pd.read_csv(Path(data_location, \"bank_account_classifier_training_set.csv\"))"
   ]
  },
  {
   "cell_type": "code",
   "execution_count": 3,
   "metadata": {
    "scrolled": true
   },
   "outputs": [
    {
     "name": "stdout",
     "output_type": "stream",
     "text": [
      "   labels                              full_bank_description  \\\n",
      "0     401  CB DE SOUSA ANTONI FACT 300720 M BERTHINIER CH...   \n",
      "1     401  *BERI DETECTISARL 3A SERVICES FR80AAA481533 BE...   \n",
      "2     401  VIR SEPA DEBIESSE ANNULATION VIRT PAR ERREUR D...   \n",
      "3     401  CB COTE COMPTOIR FACT 160920 M BERTHINIER CHAR...   \n",
      "4     401     FACTURE N 034 VERS 12135 00300 04365870673 39    \n",
      "\n",
      "            DB_NAME  bankAccountBankName  bankAccountBranch  bankAmount  \\\n",
      "0  YPN_DB1000232254              13825.0              200.0       -4.35   \n",
      "1  YPN_DB1000232254              13825.0              200.0      -78.00   \n",
      "2  YPN_DB1000232254              13825.0              200.0       72.00   \n",
      "3  YPN_DB1000232254              13825.0              200.0      -12.00   \n",
      "4  YPN_DB1000232254              13825.0              200.0      -60.00   \n",
      "\n",
      "   lettering_code  payment_day  payment_month  payment_year  \n",
      "0               0            1              8          2020  \n",
      "1               0           10              9          2020  \n",
      "2               0            5             12          2019  \n",
      "3               0           17              9          2020  \n",
      "4               1           28              1          2021  \n"
     ]
    }
   ],
   "source": [
    "print(train_data.head())"
   ]
  },
  {
   "cell_type": "code",
   "execution_count": 4,
   "metadata": {
    "scrolled": true
   },
   "outputs": [
    {
     "name": "stdout",
     "output_type": "stream",
     "text": [
      "Using matplotlib backend: GTK3Agg\n"
     ]
    }
   ],
   "source": [
    "import seaborn as sns\n",
    "import matplotlib.pyplot as plt\n",
    "%matplotlib"
   ]
  },
  {
   "cell_type": "code",
   "execution_count": 5,
   "metadata": {},
   "outputs": [
    {
     "data": {
      "text/html": [
       "<div>\n",
       "<style scoped>\n",
       "    .dataframe tbody tr th:only-of-type {\n",
       "        vertical-align: middle;\n",
       "    }\n",
       "\n",
       "    .dataframe tbody tr th {\n",
       "        vertical-align: top;\n",
       "    }\n",
       "\n",
       "    .dataframe thead th {\n",
       "        text-align: right;\n",
       "    }\n",
       "</style>\n",
       "<table border=\"1\" class=\"dataframe\">\n",
       "  <thead>\n",
       "    <tr style=\"text-align: right;\">\n",
       "      <th></th>\n",
       "      <th>bankAccountBankName</th>\n",
       "      <th>bankAccountBranch</th>\n",
       "      <th>bankAmount</th>\n",
       "      <th>lettering_code</th>\n",
       "      <th>payment_day</th>\n",
       "      <th>payment_month</th>\n",
       "      <th>payment_year</th>\n",
       "    </tr>\n",
       "  </thead>\n",
       "  <tbody>\n",
       "    <tr>\n",
       "      <th>0</th>\n",
       "      <td>13825.0</td>\n",
       "      <td>200.0</td>\n",
       "      <td>-4.35</td>\n",
       "      <td>0</td>\n",
       "      <td>1</td>\n",
       "      <td>8</td>\n",
       "      <td>2020</td>\n",
       "    </tr>\n",
       "    <tr>\n",
       "      <th>1</th>\n",
       "      <td>13825.0</td>\n",
       "      <td>200.0</td>\n",
       "      <td>-78.00</td>\n",
       "      <td>0</td>\n",
       "      <td>10</td>\n",
       "      <td>9</td>\n",
       "      <td>2020</td>\n",
       "    </tr>\n",
       "    <tr>\n",
       "      <th>2</th>\n",
       "      <td>13825.0</td>\n",
       "      <td>200.0</td>\n",
       "      <td>72.00</td>\n",
       "      <td>0</td>\n",
       "      <td>5</td>\n",
       "      <td>12</td>\n",
       "      <td>2019</td>\n",
       "    </tr>\n",
       "    <tr>\n",
       "      <th>3</th>\n",
       "      <td>13825.0</td>\n",
       "      <td>200.0</td>\n",
       "      <td>-12.00</td>\n",
       "      <td>0</td>\n",
       "      <td>17</td>\n",
       "      <td>9</td>\n",
       "      <td>2020</td>\n",
       "    </tr>\n",
       "    <tr>\n",
       "      <th>4</th>\n",
       "      <td>13825.0</td>\n",
       "      <td>200.0</td>\n",
       "      <td>-60.00</td>\n",
       "      <td>1</td>\n",
       "      <td>28</td>\n",
       "      <td>1</td>\n",
       "      <td>2021</td>\n",
       "    </tr>\n",
       "  </tbody>\n",
       "</table>\n",
       "</div>"
      ],
      "text/plain": [
       "   bankAccountBankName  bankAccountBranch  bankAmount  lettering_code  \\\n",
       "0              13825.0              200.0       -4.35               0   \n",
       "1              13825.0              200.0      -78.00               0   \n",
       "2              13825.0              200.0       72.00               0   \n",
       "3              13825.0              200.0      -12.00               0   \n",
       "4              13825.0              200.0      -60.00               1   \n",
       "\n",
       "   payment_day  payment_month  payment_year  \n",
       "0            1              8          2020  \n",
       "1           10              9          2020  \n",
       "2            5             12          2019  \n",
       "3           17              9          2020  \n",
       "4           28              1          2021  "
      ]
     },
     "execution_count": 5,
     "metadata": {},
     "output_type": "execute_result"
    }
   ],
   "source": [
    "numerical_x = train_data[[\"bankAccountBankName\", \"bankAccountBranch\", \"bankAmount\", \"lettering_code\", \"payment_day\", \"payment_month\", \"payment_year\"]]\n",
    "numerical_x.head()"
   ]
  },
  {
   "cell_type": "code",
   "execution_count": 6,
   "metadata": {},
   "outputs": [
    {
     "data": {
      "text/html": [
       "<div>\n",
       "<style scoped>\n",
       "    .dataframe tbody tr th:only-of-type {\n",
       "        vertical-align: middle;\n",
       "    }\n",
       "\n",
       "    .dataframe tbody tr th {\n",
       "        vertical-align: top;\n",
       "    }\n",
       "\n",
       "    .dataframe thead th {\n",
       "        text-align: right;\n",
       "    }\n",
       "</style>\n",
       "<table border=\"1\" class=\"dataframe\">\n",
       "  <thead>\n",
       "    <tr style=\"text-align: right;\">\n",
       "      <th></th>\n",
       "      <th>labels</th>\n",
       "    </tr>\n",
       "  </thead>\n",
       "  <tbody>\n",
       "    <tr>\n",
       "      <th>0</th>\n",
       "      <td>401</td>\n",
       "    </tr>\n",
       "    <tr>\n",
       "      <th>1</th>\n",
       "      <td>401</td>\n",
       "    </tr>\n",
       "    <tr>\n",
       "      <th>2</th>\n",
       "      <td>401</td>\n",
       "    </tr>\n",
       "    <tr>\n",
       "      <th>3</th>\n",
       "      <td>401</td>\n",
       "    </tr>\n",
       "    <tr>\n",
       "      <th>4</th>\n",
       "      <td>401</td>\n",
       "    </tr>\n",
       "  </tbody>\n",
       "</table>\n",
       "</div>"
      ],
      "text/plain": [
       "   labels\n",
       "0     401\n",
       "1     401\n",
       "2     401\n",
       "3     401\n",
       "4     401"
      ]
     },
     "execution_count": 6,
     "metadata": {},
     "output_type": "execute_result"
    },
    {
     "name": "stderr",
     "output_type": "stream",
     "text": [
      "/home/sadid/.local/lib/python3.8/site-packages/ipykernel/gui/gtk3embed.py:59: RuntimeWarning: coroutine 'Kernel.do_one_iteration' was never awaited\n",
      "  self.kernel.do_one_iteration()\n",
      "RuntimeWarning: Enable tracemalloc to get the object allocation traceback\n"
     ]
    }
   ],
   "source": [
    "labels = train_data[[\"labels\"]]\n",
    "labels.head()"
   ]
  },
  {
   "cell_type": "code",
   "execution_count": null,
   "metadata": {},
   "outputs": [],
   "source": []
  }
 ],
 "metadata": {
  "kernelspec": {
   "display_name": "Python 3 (ipykernel)",
   "language": "python",
   "name": "python3"
  },
  "language_info": {
   "codemirror_mode": {
    "name": "ipython",
    "version": 3
   },
   "file_extension": ".py",
   "mimetype": "text/x-python",
   "name": "python",
   "nbconvert_exporter": "python",
   "pygments_lexer": "ipython3",
   "version": "3.8.10"
  }
 },
 "nbformat": 4,
 "nbformat_minor": 1
}
