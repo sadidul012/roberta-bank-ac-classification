{
 "cells": [
  {
   "cell_type": "code",
   "execution_count": 11,
   "metadata": {},
   "outputs": [],
   "source": [
    "import pandas as pd\n",
    "from cutils import *\n",
    "from pathlib import Path"
   ]
  },
  {
   "cell_type": "code",
   "execution_count": 12,
   "metadata": {},
   "outputs": [],
   "source": [
    "train_data = pd.read_csv(Path(data_location, \"bank_account_classifier_training_set.csv\"))"
   ]
  },
  {
   "cell_type": "code",
   "execution_count": 21,
   "metadata": {},
   "outputs": [
    {
     "data": {
      "text/plain": [
       "Index(['labels', 'full_bank_description', 'DB_NAME', 'bankAccountBankName',\n",
       "       'bankAccountBranch', 'bankAmount', 'lettering_code', 'payment_day',\n",
       "       'payment_month', 'payment_year'],\n",
       "      dtype='object')"
      ]
     },
     "execution_count": 21,
     "metadata": {},
     "output_type": "execute_result"
    }
   ],
   "source": [
    "train_data.columns"
   ]
  },
  {
   "cell_type": "code",
   "execution_count": 13,
   "metadata": {
    "scrolled": true
   },
   "outputs": [
    {
     "name": "stdout",
     "output_type": "stream",
     "text": [
      "(1979856, 10)\n"
     ]
    }
   ],
   "source": [
    "print(train_data.shape)"
   ]
  },
  {
   "cell_type": "code",
   "execution_count": 14,
   "metadata": {
    "scrolled": true
   },
   "outputs": [],
   "source": [
    "import seaborn as sns\n",
    "import matplotlib.pyplot as plt\n",
    "%matplotlib inline"
   ]
  },
  {
   "cell_type": "code",
   "execution_count": 15,
   "metadata": {},
   "outputs": [
    {
     "data": {
      "text/html": [
       "<div>\n",
       "<style scoped>\n",
       "    .dataframe tbody tr th:only-of-type {\n",
       "        vertical-align: middle;\n",
       "    }\n",
       "\n",
       "    .dataframe tbody tr th {\n",
       "        vertical-align: top;\n",
       "    }\n",
       "\n",
       "    .dataframe thead th {\n",
       "        text-align: right;\n",
       "    }\n",
       "</style>\n",
       "<table border=\"1\" class=\"dataframe\">\n",
       "  <thead>\n",
       "    <tr style=\"text-align: right;\">\n",
       "      <th></th>\n",
       "      <th>bankAmount</th>\n",
       "      <th>lettering_code</th>\n",
       "      <th>payment_day</th>\n",
       "      <th>payment_month</th>\n",
       "      <th>payment_year</th>\n",
       "    </tr>\n",
       "  </thead>\n",
       "  <tbody>\n",
       "    <tr>\n",
       "      <th>0</th>\n",
       "      <td>-4.35</td>\n",
       "      <td>0</td>\n",
       "      <td>1</td>\n",
       "      <td>8</td>\n",
       "      <td>2020</td>\n",
       "    </tr>\n",
       "    <tr>\n",
       "      <th>1</th>\n",
       "      <td>-78.00</td>\n",
       "      <td>0</td>\n",
       "      <td>10</td>\n",
       "      <td>9</td>\n",
       "      <td>2020</td>\n",
       "    </tr>\n",
       "    <tr>\n",
       "      <th>2</th>\n",
       "      <td>72.00</td>\n",
       "      <td>0</td>\n",
       "      <td>5</td>\n",
       "      <td>12</td>\n",
       "      <td>2019</td>\n",
       "    </tr>\n",
       "    <tr>\n",
       "      <th>3</th>\n",
       "      <td>-12.00</td>\n",
       "      <td>0</td>\n",
       "      <td>17</td>\n",
       "      <td>9</td>\n",
       "      <td>2020</td>\n",
       "    </tr>\n",
       "    <tr>\n",
       "      <th>4</th>\n",
       "      <td>-60.00</td>\n",
       "      <td>1</td>\n",
       "      <td>28</td>\n",
       "      <td>1</td>\n",
       "      <td>2021</td>\n",
       "    </tr>\n",
       "  </tbody>\n",
       "</table>\n",
       "</div>"
      ],
      "text/plain": [
       "   bankAmount  lettering_code  payment_day  payment_month  payment_year\n",
       "0       -4.35               0            1              8          2020\n",
       "1      -78.00               0           10              9          2020\n",
       "2       72.00               0            5             12          2019\n",
       "3      -12.00               0           17              9          2020\n",
       "4      -60.00               1           28              1          2021"
      ]
     },
     "execution_count": 15,
     "metadata": {},
     "output_type": "execute_result"
    }
   ],
   "source": [
    "numerical_x = train_data[[\"bankAmount\", \"lettering_code\", \"payment_day\", \"payment_month\", \"payment_year\"]]\n",
    "numerical_x.head()"
   ]
  },
  {
   "cell_type": "code",
   "execution_count": 16,
   "metadata": {},
   "outputs": [
    {
     "data": {
      "text/html": [
       "<div>\n",
       "<style scoped>\n",
       "    .dataframe tbody tr th:only-of-type {\n",
       "        vertical-align: middle;\n",
       "    }\n",
       "\n",
       "    .dataframe tbody tr th {\n",
       "        vertical-align: top;\n",
       "    }\n",
       "\n",
       "    .dataframe thead th {\n",
       "        text-align: right;\n",
       "    }\n",
       "</style>\n",
       "<table border=\"1\" class=\"dataframe\">\n",
       "  <thead>\n",
       "    <tr style=\"text-align: right;\">\n",
       "      <th></th>\n",
       "      <th>labels</th>\n",
       "    </tr>\n",
       "  </thead>\n",
       "  <tbody>\n",
       "    <tr>\n",
       "      <th>0</th>\n",
       "      <td>401</td>\n",
       "    </tr>\n",
       "    <tr>\n",
       "      <th>1</th>\n",
       "      <td>401</td>\n",
       "    </tr>\n",
       "    <tr>\n",
       "      <th>2</th>\n",
       "      <td>401</td>\n",
       "    </tr>\n",
       "    <tr>\n",
       "      <th>3</th>\n",
       "      <td>401</td>\n",
       "    </tr>\n",
       "    <tr>\n",
       "      <th>4</th>\n",
       "      <td>401</td>\n",
       "    </tr>\n",
       "  </tbody>\n",
       "</table>\n",
       "</div>"
      ],
      "text/plain": [
       "   labels\n",
       "0     401\n",
       "1     401\n",
       "2     401\n",
       "3     401\n",
       "4     401"
      ]
     },
     "execution_count": 16,
     "metadata": {},
     "output_type": "execute_result"
    }
   ],
   "source": [
    "labels = train_data[[\"labels\"]]\n",
    "labels.head()"
   ]
  },
  {
   "cell_type": "code",
   "execution_count": 17,
   "metadata": {},
   "outputs": [
    {
     "data": {
      "text/html": [
       "<div>\n",
       "<style scoped>\n",
       "    .dataframe tbody tr th:only-of-type {\n",
       "        vertical-align: middle;\n",
       "    }\n",
       "\n",
       "    .dataframe tbody tr th {\n",
       "        vertical-align: top;\n",
       "    }\n",
       "\n",
       "    .dataframe thead th {\n",
       "        text-align: right;\n",
       "    }\n",
       "</style>\n",
       "<table border=\"1\" class=\"dataframe\">\n",
       "  <thead>\n",
       "    <tr style=\"text-align: right;\">\n",
       "      <th></th>\n",
       "      <th>labels</th>\n",
       "      <th>bankAmount</th>\n",
       "      <th>lettering_code</th>\n",
       "      <th>payment_day</th>\n",
       "      <th>payment_month</th>\n",
       "      <th>payment_year</th>\n",
       "    </tr>\n",
       "  </thead>\n",
       "  <tbody>\n",
       "    <tr>\n",
       "      <th>0</th>\n",
       "      <td>401</td>\n",
       "      <td>-4.35</td>\n",
       "      <td>0</td>\n",
       "      <td>1</td>\n",
       "      <td>8</td>\n",
       "      <td>2020</td>\n",
       "    </tr>\n",
       "    <tr>\n",
       "      <th>1</th>\n",
       "      <td>401</td>\n",
       "      <td>-78.00</td>\n",
       "      <td>0</td>\n",
       "      <td>10</td>\n",
       "      <td>9</td>\n",
       "      <td>2020</td>\n",
       "    </tr>\n",
       "    <tr>\n",
       "      <th>2</th>\n",
       "      <td>401</td>\n",
       "      <td>72.00</td>\n",
       "      <td>0</td>\n",
       "      <td>5</td>\n",
       "      <td>12</td>\n",
       "      <td>2019</td>\n",
       "    </tr>\n",
       "    <tr>\n",
       "      <th>3</th>\n",
       "      <td>401</td>\n",
       "      <td>-12.00</td>\n",
       "      <td>0</td>\n",
       "      <td>17</td>\n",
       "      <td>9</td>\n",
       "      <td>2020</td>\n",
       "    </tr>\n",
       "    <tr>\n",
       "      <th>4</th>\n",
       "      <td>401</td>\n",
       "      <td>-60.00</td>\n",
       "      <td>1</td>\n",
       "      <td>28</td>\n",
       "      <td>1</td>\n",
       "      <td>2021</td>\n",
       "    </tr>\n",
       "  </tbody>\n",
       "</table>\n",
       "</div>"
      ],
      "text/plain": [
       "   labels  bankAmount  lettering_code  payment_day  payment_month  \\\n",
       "0     401       -4.35               0            1              8   \n",
       "1     401      -78.00               0           10              9   \n",
       "2     401       72.00               0            5             12   \n",
       "3     401      -12.00               0           17              9   \n",
       "4     401      -60.00               1           28              1   \n",
       "\n",
       "   payment_year  \n",
       "0          2020  \n",
       "1          2020  \n",
       "2          2019  \n",
       "3          2020  \n",
       "4          2021  "
      ]
     },
     "execution_count": 17,
     "metadata": {},
     "output_type": "execute_result"
    }
   ],
   "source": [
    "cor = train_data[[\"labels\", \"bankAmount\", \"lettering_code\", \"payment_day\", \"payment_month\", \"payment_year\"]]\n",
    "cor.head()"
   ]
  },
  {
   "cell_type": "code",
   "execution_count": 18,
   "metadata": {},
   "outputs": [],
   "source": [
    "corr_mat = cor.corr()"
   ]
  },
  {
   "cell_type": "code",
   "execution_count": 19,
   "metadata": {
    "scrolled": true
   },
   "outputs": [
    {
     "data": {
      "image/png": "[encoded data removed]",
      "text/plain": [
       "<Figure size 720x576 with 2 Axes>"
      ]
     },
     "metadata": {
      "needs_background": "light"
     },
     "output_type": "display_data"
    }
   ],
   "source": [
    "fig, ax = plt.subplots(figsize=(10, 8))\n",
    "sns.heatmap(corr_mat, annot=True, vmax=.8, square=True, ax=ax)\n",
    "plt.show()"
   ]
  },
  {
   "cell_type": "code",
   "execution_count": 20,
   "metadata": {},
   "outputs": [
    {
     "data": {
      "text/html": [
       "<div>\n",
       "<style scoped>\n",
       "    .dataframe tbody tr th:only-of-type {\n",
       "        vertical-align: middle;\n",
       "    }\n",
       "\n",
       "    .dataframe tbody tr th {\n",
       "        vertical-align: top;\n",
       "    }\n",
       "\n",
       "    .dataframe thead th {\n",
       "        text-align: right;\n",
       "    }\n",
       "</style>\n",
       "<table border=\"1\" class=\"dataframe\">\n",
       "  <thead>\n",
       "    <tr style=\"text-align: right;\">\n",
       "      <th></th>\n",
       "      <th>labels</th>\n",
       "      <th>bankAmount</th>\n",
       "      <th>lettering_code</th>\n",
       "      <th>payment_day</th>\n",
       "      <th>payment_month</th>\n",
       "      <th>payment_year</th>\n",
       "    </tr>\n",
       "  </thead>\n",
       "  <tbody>\n",
       "    <tr>\n",
       "      <th>labels</th>\n",
       "      <td>1.000000</td>\n",
       "      <td>-0.000432</td>\n",
       "      <td>-0.344987</td>\n",
       "      <td>-0.017295</td>\n",
       "      <td>0.004889</td>\n",
       "      <td>-0.011560</td>\n",
       "    </tr>\n",
       "    <tr>\n",
       "      <th>bankAmount</th>\n",
       "      <td>-0.000432</td>\n",
       "      <td>1.000000</td>\n",
       "      <td>-0.001504</td>\n",
       "      <td>-0.000684</td>\n",
       "      <td>-0.001930</td>\n",
       "      <td>0.002414</td>\n",
       "    </tr>\n",
       "    <tr>\n",
       "      <th>lettering_code</th>\n",
       "      <td>-0.344987</td>\n",
       "      <td>-0.001504</td>\n",
       "      <td>1.000000</td>\n",
       "      <td>0.048278</td>\n",
       "      <td>0.082265</td>\n",
       "      <td>-0.171030</td>\n",
       "    </tr>\n",
       "    <tr>\n",
       "      <th>payment_day</th>\n",
       "      <td>-0.017295</td>\n",
       "      <td>-0.000684</td>\n",
       "      <td>0.048278</td>\n",
       "      <td>1.000000</td>\n",
       "      <td>0.020616</td>\n",
       "      <td>-0.041647</td>\n",
       "    </tr>\n",
       "    <tr>\n",
       "      <th>payment_month</th>\n",
       "      <td>0.004889</td>\n",
       "      <td>-0.001930</td>\n",
       "      <td>0.082265</td>\n",
       "      <td>0.020616</td>\n",
       "      <td>1.000000</td>\n",
       "      <td>-0.569010</td>\n",
       "    </tr>\n",
       "    <tr>\n",
       "      <th>payment_year</th>\n",
       "      <td>-0.011560</td>\n",
       "      <td>0.002414</td>\n",
       "      <td>-0.171030</td>\n",
       "      <td>-0.041647</td>\n",
       "      <td>-0.569010</td>\n",
       "      <td>1.000000</td>\n",
       "    </tr>\n",
       "  </tbody>\n",
       "</table>\n",
       "</div>"
      ],
      "text/plain": [
       "                  labels  bankAmount  lettering_code  payment_day  \\\n",
       "labels          1.000000   -0.000432       -0.344987    -0.017295   \n",
       "bankAmount     -0.000432    1.000000       -0.001504    -0.000684   \n",
       "lettering_code -0.344987   -0.001504        1.000000     0.048278   \n",
       "payment_day    -0.017295   -0.000684        0.048278     1.000000   \n",
       "payment_month   0.004889   -0.001930        0.082265     0.020616   \n",
       "payment_year   -0.011560    0.002414       -0.171030    -0.041647   \n",
       "\n",
       "                payment_month  payment_year  \n",
       "labels               0.004889     -0.011560  \n",
       "bankAmount          -0.001930      0.002414  \n",
       "lettering_code       0.082265     -0.171030  \n",
       "payment_day          0.020616     -0.041647  \n",
       "payment_month        1.000000     -0.569010  \n",
       "payment_year        -0.569010      1.000000  "
      ]
     },
     "execution_count": 20,
     "metadata": {},
     "output_type": "execute_result"
    }
   ],
   "source": [
    "corr_mat"
   ]
  },
  {
   "cell_type": "code",
   "execution_count": 11,
   "metadata": {},
   "outputs": [],
   "source": [
    "from sklearn.preprocessing import LabelEncoder"
   ]
  },
  {
   "cell_type": "code",
   "execution_count": 12,
   "metadata": {},
   "outputs": [
    {
     "name": "stdout",
     "output_type": "stream",
     "text": [
      "124\n"
     ]
    }
   ],
   "source": [
    "train_data = pd.read_csv(Path(data_location, \"bank_account_classifier_training_set.csv\"))\n",
    "label_encoder = LabelEncoder()\n",
    "label_encoder.fit(train_data[\"labels\"])\n",
    "\n",
    "print(len(label_encoder.classes_))"
   ]
  },
  {
   "cell_type": "code",
   "execution_count": 13,
   "metadata": {},
   "outputs": [
    {
     "name": "stdout",
     "output_type": "stream",
     "text": [
      "58\n"
     ]
    }
   ],
   "source": [
    "train_data = pd.read_csv(Path(data_location, \"bank_account_classifier_test_set.csv\"))\n",
    "label_encodert = LabelEncoder()\n",
    "label_encodert.fit(train_data[\"labels\"])\n",
    "print(len(label_encodert.classes_))"
   ]
  },
  {
   "cell_type": "code",
   "execution_count": 14,
   "metadata": {},
   "outputs": [
    {
     "name": "stdout",
     "output_type": "stream",
     "text": [
      "58\n"
     ]
    }
   ],
   "source": [
    "print(len(set(label_encoder.classes_).intersection(set(label_encodert.classes_))))"
   ]
  },
  {
   "cell_type": "code",
   "execution_count": 16,
   "metadata": {},
   "outputs": [],
   "source": [
    "from evaluate import metric, test_roberta\n",
    "from transformers import AutoTokenizer, AutoModelForSequenceClassification\n",
    "import torch\n",
    "\n",
    "device = torch.device(\"cuda\") if torch.cuda.is_available() else torch.device(\"cpu\")"
   ]
  },
  {
   "cell_type": "code",
   "execution_count": 18,
   "metadata": {},
   "outputs": [
    {
     "name": "stdout",
     "output_type": "stream",
     "text": [
      "Fold 1:\n"
     ]
    },
    {
     "name": "stderr",
     "output_type": "stream",
     "text": [
      "Using custom data configuration default-ccef78690732dd47\n",
      "Reusing dataset csv (/home/sadid/.cache/huggingface/datasets/csv/default-ccef78690732dd47/0.0.0/bf68a4c4aefa545d0712b2fcbb1b327f905bbe2f6425fbc5e8c25234acb9e14a)\n"
     ]
    },
    {
     "data": {
      "application/vnd.jupyter.widget-view+json": {
       "model_id": "704ddc9740af4e50ab21f378ed88a204",
       "version_major": 2,
       "version_minor": 0
      },
      "text/plain": [
       "  0%|          | 0/1 [00:00<?, ?it/s]"
      ]
     },
     "metadata": {},
     "output_type": "display_data"
    },
    {
     "name": "stderr",
     "output_type": "stream",
     "text": [
      "Loading cached processed dataset at /home/sadid/.cache/huggingface/datasets/csv/default-ccef78690732dd47/0.0.0/bf68a4c4aefa545d0712b2fcbb1b327f905bbe2f6425fbc5e8c25234acb9e14a/cache-6ad268650a0fd06d.arrow\n",
      "100%|█████████▉| 2813/2820 [00:38<00:00, 74.29it/s]/mnt/Cache/PycharmProjects/bank-account-classifier/evaluate.py:24: RuntimeWarning: invalid value encountered in long_scalars\n",
      "  p = (tp / (tp + fp))\n",
      "100%|██████████| 2820/2820 [00:38<00:00, 73.25it/s]\n"
     ]
    },
    {
     "name": "stdout",
     "output_type": "stream",
     "text": [
      "\tmicro accuracy: 0.737322695035461\n",
      "\tmacro accuracy: 0.9454079246510911\n",
      "Fold 2:\n"
     ]
    },
    {
     "name": "stderr",
     "output_type": "stream",
     "text": [
      "Using custom data configuration default-ccef78690732dd47\n",
      "Reusing dataset csv (/home/sadid/.cache/huggingface/datasets/csv/default-ccef78690732dd47/0.0.0/bf68a4c4aefa545d0712b2fcbb1b327f905bbe2f6425fbc5e8c25234acb9e14a)\n"
     ]
    },
    {
     "data": {
      "application/vnd.jupyter.widget-view+json": {
       "model_id": "f48717a07aa0466081962cd87924cf4b",
       "version_major": 2,
       "version_minor": 0
      },
      "text/plain": [
       "  0%|          | 0/1 [00:00<?, ?it/s]"
      ]
     },
     "metadata": {},
     "output_type": "display_data"
    },
    {
     "name": "stderr",
     "output_type": "stream",
     "text": [
      "Loading cached processed dataset at /home/sadid/.cache/huggingface/datasets/csv/default-ccef78690732dd47/0.0.0/bf68a4c4aefa545d0712b2fcbb1b327f905bbe2f6425fbc5e8c25234acb9e14a/cache-ca224210387b3122.arrow\n",
      "100%|█████████▉| 2819/2820 [00:37<00:00, 73.90it/s]/mnt/Cache/PycharmProjects/bank-account-classifier/evaluate.py:24: RuntimeWarning: invalid value encountered in long_scalars\n",
      "  p = (tp / (tp + fp))\n",
      "100%|██████████| 2820/2820 [00:38<00:00, 74.13it/s]\n"
     ]
    },
    {
     "name": "stdout",
     "output_type": "stream",
     "text": [
      "\tmicro accuracy: 0.7391400709219859\n",
      "\tmacro accuracy: 0.9526828069432206\n",
      "Fold 3:\n"
     ]
    },
    {
     "name": "stderr",
     "output_type": "stream",
     "text": [
      "Using custom data configuration default-ccef78690732dd47\n",
      "Reusing dataset csv (/home/sadid/.cache/huggingface/datasets/csv/default-ccef78690732dd47/0.0.0/bf68a4c4aefa545d0712b2fcbb1b327f905bbe2f6425fbc5e8c25234acb9e14a)\n"
     ]
    },
    {
     "data": {
      "application/vnd.jupyter.widget-view+json": {
       "model_id": "810982fc87614bbea85a2759210e0bd7",
       "version_major": 2,
       "version_minor": 0
      },
      "text/plain": [
       "  0%|          | 0/1 [00:00<?, ?it/s]"
      ]
     },
     "metadata": {},
     "output_type": "display_data"
    },
    {
     "name": "stderr",
     "output_type": "stream",
     "text": [
      "Loading cached processed dataset at /home/sadid/.cache/huggingface/datasets/csv/default-ccef78690732dd47/0.0.0/bf68a4c4aefa545d0712b2fcbb1b327f905bbe2f6425fbc5e8c25234acb9e14a/cache-ce6d36bf9bc29c66.arrow\n",
      "100%|█████████▉| 2813/2820 [00:37<00:00, 74.70it/s]/mnt/Cache/PycharmProjects/bank-account-classifier/evaluate.py:24: RuntimeWarning: invalid value encountered in long_scalars\n",
      "  p = (tp / (tp + fp))\n",
      "100%|██████████| 2820/2820 [00:37<00:00, 74.43it/s]\n"
     ]
    },
    {
     "name": "stdout",
     "output_type": "stream",
     "text": [
      "\tmicro accuracy: 0.7416223404255319\n",
      "\tmacro accuracy: 0.9529084437274675\n",
      "Fold 4:\n"
     ]
    },
    {
     "name": "stderr",
     "output_type": "stream",
     "text": [
      "Using custom data configuration default-ccef78690732dd47\n",
      "Reusing dataset csv (/home/sadid/.cache/huggingface/datasets/csv/default-ccef78690732dd47/0.0.0/bf68a4c4aefa545d0712b2fcbb1b327f905bbe2f6425fbc5e8c25234acb9e14a)\n"
     ]
    },
    {
     "data": {
      "application/vnd.jupyter.widget-view+json": {
       "model_id": "a024a5c6ae094df19dc69a0754a902c9",
       "version_major": 2,
       "version_minor": 0
      },
      "text/plain": [
       "  0%|          | 0/1 [00:00<?, ?it/s]"
      ]
     },
     "metadata": {},
     "output_type": "display_data"
    },
    {
     "name": "stderr",
     "output_type": "stream",
     "text": [
      "Loading cached processed dataset at /home/sadid/.cache/huggingface/datasets/csv/default-ccef78690732dd47/0.0.0/bf68a4c4aefa545d0712b2fcbb1b327f905bbe2f6425fbc5e8c25234acb9e14a/cache-1faf15b20e6503dd.arrow\n",
      "100%|██████████| 2820/2820 [00:37<00:00, 74.98it/s]/mnt/Cache/PycharmProjects/bank-account-classifier/evaluate.py:24: RuntimeWarning: invalid value encountered in long_scalars\n",
      "  p = (tp / (tp + fp))\n",
      "100%|██████████| 2820/2820 [00:37<00:00, 74.25it/s]\n"
     ]
    },
    {
     "name": "stdout",
     "output_type": "stream",
     "text": [
      "\tmicro accuracy: 0.7445921985815603\n",
      "\tmacro accuracy: 0.9452174413672454\n",
      "Fold 5:\n"
     ]
    },
    {
     "name": "stderr",
     "output_type": "stream",
     "text": [
      "Using custom data configuration default-ccef78690732dd47\n",
      "Reusing dataset csv (/home/sadid/.cache/huggingface/datasets/csv/default-ccef78690732dd47/0.0.0/bf68a4c4aefa545d0712b2fcbb1b327f905bbe2f6425fbc5e8c25234acb9e14a)\n"
     ]
    },
    {
     "data": {
      "application/vnd.jupyter.widget-view+json": {
       "model_id": "006d5a8a49b7469c94dbe7abf4abbde0",
       "version_major": 2,
       "version_minor": 0
      },
      "text/plain": [
       "  0%|          | 0/1 [00:00<?, ?it/s]"
      ]
     },
     "metadata": {},
     "output_type": "display_data"
    },
    {
     "name": "stderr",
     "output_type": "stream",
     "text": [
      "Loading cached processed dataset at /home/sadid/.cache/huggingface/datasets/csv/default-ccef78690732dd47/0.0.0/bf68a4c4aefa545d0712b2fcbb1b327f905bbe2f6425fbc5e8c25234acb9e14a/cache-f17e513bfa490f60.arrow\n",
      "100%|█████████▉| 2818/2820 [00:38<00:00, 72.77it/s]/mnt/Cache/PycharmProjects/bank-account-classifier/evaluate.py:24: RuntimeWarning: invalid value encountered in long_scalars\n",
      "  p = (tp / (tp + fp))\n",
      "100%|██████████| 2820/2820 [00:38<00:00, 73.93it/s]\n"
     ]
    },
    {
     "name": "stdout",
     "output_type": "stream",
     "text": [
      "\tmicro accuracy: 0.7417109929078014\n",
      "\tmacro accuracy: 0.9475180033544623\n",
      "Fold 6:\n"
     ]
    },
    {
     "name": "stderr",
     "output_type": "stream",
     "text": [
      "Using custom data configuration default-ccef78690732dd47\n",
      "Reusing dataset csv (/home/sadid/.cache/huggingface/datasets/csv/default-ccef78690732dd47/0.0.0/bf68a4c4aefa545d0712b2fcbb1b327f905bbe2f6425fbc5e8c25234acb9e14a)\n"
     ]
    },
    {
     "data": {
      "application/vnd.jupyter.widget-view+json": {
       "model_id": "95d62bef81914430be54484461d5b482",
       "version_major": 2,
       "version_minor": 0
      },
      "text/plain": [
       "  0%|          | 0/1 [00:00<?, ?it/s]"
      ]
     },
     "metadata": {},
     "output_type": "display_data"
    },
    {
     "name": "stderr",
     "output_type": "stream",
     "text": [
      "Loading cached processed dataset at /home/sadid/.cache/huggingface/datasets/csv/default-ccef78690732dd47/0.0.0/bf68a4c4aefa545d0712b2fcbb1b327f905bbe2f6425fbc5e8c25234acb9e14a/cache-d5940817bd8933da.arrow\n",
      "100%|█████████▉| 2819/2820 [00:41<00:00, 67.29it/s]/mnt/Cache/PycharmProjects/bank-account-classifier/evaluate.py:24: RuntimeWarning: invalid value encountered in long_scalars\n",
      "  p = (tp / (tp + fp))\n",
      "100%|██████████| 2820/2820 [00:41<00:00, 67.82it/s]\n"
     ]
    },
    {
     "name": "stdout",
     "output_type": "stream",
     "text": [
      "\tmicro accuracy: 0.7407358156028369\n",
      "\tmacro accuracy: 0.945524302635305\n",
      "Fold 7:\n"
     ]
    },
    {
     "name": "stderr",
     "output_type": "stream",
     "text": [
      "Using custom data configuration default-ccef78690732dd47\n",
      "Reusing dataset csv (/home/sadid/.cache/huggingface/datasets/csv/default-ccef78690732dd47/0.0.0/bf68a4c4aefa545d0712b2fcbb1b327f905bbe2f6425fbc5e8c25234acb9e14a)\n"
     ]
    },
    {
     "data": {
      "application/vnd.jupyter.widget-view+json": {
       "model_id": "1d4ef724d83b4b0888d6c5ec1dbf03a5",
       "version_major": 2,
       "version_minor": 0
      },
      "text/plain": [
       "  0%|          | 0/1 [00:00<?, ?it/s]"
      ]
     },
     "metadata": {},
     "output_type": "display_data"
    },
    {
     "name": "stderr",
     "output_type": "stream",
     "text": [
      "Loading cached processed dataset at /home/sadid/.cache/huggingface/datasets/csv/default-ccef78690732dd47/0.0.0/bf68a4c4aefa545d0712b2fcbb1b327f905bbe2f6425fbc5e8c25234acb9e14a/cache-3780eceb639b2c8b.arrow\n",
      "100%|█████████▉| 2817/2820 [00:41<00:00, 67.22it/s]/mnt/Cache/PycharmProjects/bank-account-classifier/evaluate.py:24: RuntimeWarning: invalid value encountered in long_scalars\n",
      "  p = (tp / (tp + fp))\n",
      "100%|██████████| 2820/2820 [00:41<00:00, 67.48it/s]\n"
     ]
    },
    {
     "name": "stdout",
     "output_type": "stream",
     "text": [
      "\tmicro accuracy: 0.7433067375886525\n",
      "\tmacro accuracy: 0.9475137481832343\n",
      "Fold 8:\n"
     ]
    },
    {
     "name": "stderr",
     "output_type": "stream",
     "text": [
      "Using custom data configuration default-ccef78690732dd47\n",
      "Reusing dataset csv (/home/sadid/.cache/huggingface/datasets/csv/default-ccef78690732dd47/0.0.0/bf68a4c4aefa545d0712b2fcbb1b327f905bbe2f6425fbc5e8c25234acb9e14a)\n"
     ]
    },
    {
     "data": {
      "application/vnd.jupyter.widget-view+json": {
       "model_id": "0d364f4045e347b3972fe1ac70b46668",
       "version_major": 2,
       "version_minor": 0
      },
      "text/plain": [
       "  0%|          | 0/1 [00:00<?, ?it/s]"
      ]
     },
     "metadata": {},
     "output_type": "display_data"
    },
    {
     "name": "stderr",
     "output_type": "stream",
     "text": [
      "Loading cached processed dataset at /home/sadid/.cache/huggingface/datasets/csv/default-ccef78690732dd47/0.0.0/bf68a4c4aefa545d0712b2fcbb1b327f905bbe2f6425fbc5e8c25234acb9e14a/cache-e4bf7fa11a0a56e1.arrow\n",
      "100%|█████████▉| 2819/2820 [00:41<00:00, 68.09it/s]/mnt/Cache/PycharmProjects/bank-account-classifier/evaluate.py:24: RuntimeWarning: invalid value encountered in long_scalars\n",
      "  p = (tp / (tp + fp))\n",
      "100%|██████████| 2820/2820 [00:41<00:00, 67.98it/s]\n"
     ]
    },
    {
     "name": "stdout",
     "output_type": "stream",
     "text": [
      "\tmicro accuracy: 0.7407358156028369\n",
      "\tmacro accuracy: 0.945845806324686\n",
      "Fold 9:\n"
     ]
    },
    {
     "name": "stderr",
     "output_type": "stream",
     "text": [
      "Using custom data configuration default-ccef78690732dd47\n",
      "Reusing dataset csv (/home/sadid/.cache/huggingface/datasets/csv/default-ccef78690732dd47/0.0.0/bf68a4c4aefa545d0712b2fcbb1b327f905bbe2f6425fbc5e8c25234acb9e14a)\n"
     ]
    },
    {
     "data": {
      "application/vnd.jupyter.widget-view+json": {
       "model_id": "78ca7b0865e641fbb1ddf8ee2e166715",
       "version_major": 2,
       "version_minor": 0
      },
      "text/plain": [
       "  0%|          | 0/1 [00:00<?, ?it/s]"
      ]
     },
     "metadata": {},
     "output_type": "display_data"
    },
    {
     "name": "stderr",
     "output_type": "stream",
     "text": [
      "Loading cached processed dataset at /home/sadid/.cache/huggingface/datasets/csv/default-ccef78690732dd47/0.0.0/bf68a4c4aefa545d0712b2fcbb1b327f905bbe2f6425fbc5e8c25234acb9e14a/cache-c456aaa78aa1aaf5.arrow\n",
      "100%|█████████▉| 2814/2820 [00:41<00:00, 68.23it/s]/mnt/Cache/PycharmProjects/bank-account-classifier/evaluate.py:24: RuntimeWarning: invalid value encountered in long_scalars\n",
      "  p = (tp / (tp + fp))\n",
      "100%|██████████| 2820/2820 [00:41<00:00, 67.91it/s]\n"
     ]
    },
    {
     "name": "stdout",
     "output_type": "stream",
     "text": [
      "\tmicro accuracy: 0.7388741134751773\n",
      "\tmacro accuracy: 0.9472565610738809\n",
      "Fold 10:\n"
     ]
    },
    {
     "name": "stderr",
     "output_type": "stream",
     "text": [
      "Using custom data configuration default-ccef78690732dd47\n",
      "Reusing dataset csv (/home/sadid/.cache/huggingface/datasets/csv/default-ccef78690732dd47/0.0.0/bf68a4c4aefa545d0712b2fcbb1b327f905bbe2f6425fbc5e8c25234acb9e14a)\n"
     ]
    },
    {
     "data": {
      "application/vnd.jupyter.widget-view+json": {
       "model_id": "dc8c7cb8914049f685aa57640eb34e57",
       "version_major": 2,
       "version_minor": 0
      },
      "text/plain": [
       "  0%|          | 0/1 [00:00<?, ?it/s]"
      ]
     },
     "metadata": {},
     "output_type": "display_data"
    },
    {
     "name": "stderr",
     "output_type": "stream",
     "text": [
      "Loading cached processed dataset at /home/sadid/.cache/huggingface/datasets/csv/default-ccef78690732dd47/0.0.0/bf68a4c4aefa545d0712b2fcbb1b327f905bbe2f6425fbc5e8c25234acb9e14a/cache-77b19391102c6ed9.arrow\n",
      "100%|█████████▉| 2816/2820 [00:41<00:00, 68.86it/s]/mnt/Cache/PycharmProjects/bank-account-classifier/evaluate.py:24: RuntimeWarning: invalid value encountered in long_scalars\n",
      "  p = (tp / (tp + fp))\n",
      "100%|██████████| 2820/2820 [00:41<00:00, 67.18it/s]"
     ]
    },
    {
     "name": "stdout",
     "output_type": "stream",
     "text": [
      "\tmicro accuracy: 0.739450354609929\n",
      "\tmacro accuracy: 0.9481403316395554\n",
      "best folds - \n",
      "   fold  macro  accuracy      loss\n",
      "3     4  94.52     74.46  0.950020\n",
      "0     1  94.54     73.73  0.961465\n",
      "5     6  94.55     74.07  0.952051\n",
      "7     8  94.58     74.07  0.956565\n",
      "8     9  94.73     73.89  0.956898\n",
      "4     5  94.75     74.17  0.959320\n",
      "6     7  94.75     74.33  0.947831\n",
      "9    10  94.81     73.95  0.968132\n",
      "1     2  95.27     73.91  0.959168\n",
      "2     3  95.29     74.16  0.960913\n"
     ]
    },
    {
     "name": "stderr",
     "output_type": "stream",
     "text": [
      "\n"
     ]
    }
   ],
   "source": [
    "results = []\n",
    "for i in range(10):\n",
    "    print(\"Fold {}:\".format(i+1))\n",
    "    t = AutoTokenizer.from_pretrained(Path(data_location, \"bank-classifier-roberta-fold-{}\".format(i+1)))\n",
    "    m = AutoModelForSequenceClassification.from_pretrained(Path(data_location, \"bank-classifier-roberta-fold-{}\".format(i+1)), num_labels=num_classes)\n",
    "    a, l, mi, ma = test_roberta(m, t)\n",
    "\n",
    "    results.append({\"fold\": i+1, \"micro\": mi*100, \"macro\": ma * 100, \"loss\": l, \"accuracy\": a * 100})\n",
    "\n",
    "df = pd.DataFrame(results)\n",
    "df['micro'] = df['micro'].apply(lambda x: round(x, 2))\n",
    "df['macro'] = df['macro'].apply(lambda x: round(x, 2))\n",
    "df['accuracy'] = df['accuracy'].apply(lambda x: round(x, 2))\n",
    "\n",
    "df.sort_values(by=[\"macro\", \"accuracy\"], inplace=True)\n",
    "\n",
    "df.to_csv(Path(data_location, \"test_accuracy.csv\"), index=False)\n",
    "\n",
    "print(\"best folds - \")\n",
    "print(df[[\"fold\", \"macro\", \"accuracy\", \"loss\"]])"
   ]
  },
  {
   "cell_type": "code",
   "execution_count": null,
   "metadata": {},
   "outputs": [],
   "source": []
  }
 ],
 "metadata": {
  "kernelspec": {
   "display_name": "Python 3 (ipykernel)",
   "language": "python",
   "name": "python3"
  },
  "language_info": {
   "codemirror_mode": {
    "name": "ipython",
    "version": 3
   },
   "file_extension": ".py",
   "mimetype": "text/x-python",
   "name": "python",
   "nbconvert_exporter": "python",
   "pygments_lexer": "ipython3",
   "version": "3.8.10"
  }
 },
 "nbformat": 4,
 "nbformat_minor": 1
}
